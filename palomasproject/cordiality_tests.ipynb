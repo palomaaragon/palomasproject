{
 "cells": [
  {
   "cell_type": "code",
   "execution_count": 11,
   "id": "d81e7713",
   "metadata": {},
   "outputs": [],
   "source": [
    "def solution(S):\n",
    "    # write your code in Python 3.6\n",
    "    passwords = []\n",
    "    for word in S.split():\n",
    "        if word.isalnum():\n",
    "            letters = 0\n",
    "            digits = 0\n",
    "            for i in range(len(word)):\n",
    "                if word[i].isalpha():\n",
    "                    letters += 1\n",
    "                if word[i].isnumeric():\n",
    "                    digits += 1\n",
    "                if letters % 2 == 0 and digits % 2 != 0:\n",
    "                    passwords.append(word)\n",
    "    sol= max(passwords, key=len)\n",
    "    return len(sol)\n",
    "        "
   ]
  },
  {
   "cell_type": "code",
   "execution_count": 12,
   "id": "9180205f",
   "metadata": {},
   "outputs": [
    {
     "data": {
      "text/plain": [
       "7"
      ]
     },
     "execution_count": 12,
     "metadata": {},
     "output_type": "execute_result"
    }
   ],
   "source": [
    "solution('test 5 a0A pass007 ?xy1')"
   ]
  },
  {
   "cell_type": "code",
   "execution_count": null,
   "id": "6adf7726",
   "metadata": {},
   "outputs": [],
   "source": []
  }
 ],
 "metadata": {
  "kernelspec": {
   "display_name": "Python 3 (ipykernel)",
   "language": "python",
   "name": "python3"
  },
  "language_info": {
   "codemirror_mode": {
    "name": "ipython",
    "version": 3
   },
   "file_extension": ".py",
   "mimetype": "text/x-python",
   "name": "python",
   "nbconvert_exporter": "python",
   "pygments_lexer": "ipython3",
   "version": "3.8.12"
  },
  "toc": {
   "base_numbering": 1,
   "nav_menu": {},
   "number_sections": true,
   "sideBar": true,
   "skip_h1_title": false,
   "title_cell": "Table of Contents",
   "title_sidebar": "Contents",
   "toc_cell": false,
   "toc_position": {},
   "toc_section_display": true,
   "toc_window_display": false
  }
 },
 "nbformat": 4,
 "nbformat_minor": 5
}
